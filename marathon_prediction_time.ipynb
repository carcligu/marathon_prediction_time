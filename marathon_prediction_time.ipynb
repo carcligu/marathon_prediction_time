{
 "cells": [
  {
   "cell_type": "code",
   "execution_count": 30,
   "metadata": {},
   "outputs": [],
   "source": [
    "import pandas as pd\n",
    "import matplotlib.pyplot as plt\n",
    "import seaborn as sns\n",
    "import numpy as np\n",
    "import os\n",
    "from sklearn.model_selection import train_test_split\n",
    "from sklearn.model_selection import GridSearchCV\n",
    "from sklearn.ensemble import RandomForestRegressor\n",
    "from sklearn.metrics import mean_squared_error\n",
    "from math import sqrt\n",
    "\n",
    "pd.set_option('max_columns', None)"
   ]
  },
  {
   "cell_type": "code",
   "execution_count": 31,
   "metadata": {},
   "outputs": [
    {
     "data": {
      "text/plain": [
       "['MarathonData.csv',\n",
       " 'Results.png',\n",
       " 'marathon_prediction_time.ipynb',\n",
       " 'README.md',\n",
       " '.ipynb_checkpoints',\n",
       " '.git']"
      ]
     },
     "execution_count": 31,
     "metadata": {},
     "output_type": "execute_result"
    }
   ],
   "source": [
    "os.listdir()"
   ]
  },
  {
   "cell_type": "markdown",
   "metadata": {},
   "source": [
    "# Exploratory Data Analysis"
   ]
  },
  {
   "cell_type": "code",
   "execution_count": 32,
   "metadata": {},
   "outputs": [],
   "source": [
    "df = pd.read_csv('MarathonData.csv')"
   ]
  },
  {
   "cell_type": "code",
   "execution_count": 33,
   "metadata": {},
   "outputs": [
    {
     "data": {
      "text/html": [
       "<div>\n",
       "<style scoped>\n",
       "    .dataframe tbody tr th:only-of-type {\n",
       "        vertical-align: middle;\n",
       "    }\n",
       "\n",
       "    .dataframe tbody tr th {\n",
       "        vertical-align: top;\n",
       "    }\n",
       "\n",
       "    .dataframe thead th {\n",
       "        text-align: right;\n",
       "    }\n",
       "</style>\n",
       "<table border=\"1\" class=\"dataframe\">\n",
       "  <thead>\n",
       "    <tr style=\"text-align: right;\">\n",
       "      <th></th>\n",
       "      <th>id</th>\n",
       "      <th>Marathon</th>\n",
       "      <th>Name</th>\n",
       "      <th>Category</th>\n",
       "      <th>km4week</th>\n",
       "      <th>sp4week</th>\n",
       "      <th>CrossTraining</th>\n",
       "      <th>Wall21</th>\n",
       "      <th>MarathonTime</th>\n",
       "      <th>CATEGORY</th>\n",
       "    </tr>\n",
       "  </thead>\n",
       "  <tbody>\n",
       "    <tr>\n",
       "      <th>0</th>\n",
       "      <td>1</td>\n",
       "      <td>Prague17</td>\n",
       "      <td>Blair MORGAN</td>\n",
       "      <td>MAM</td>\n",
       "      <td>132.8</td>\n",
       "      <td>14.434783</td>\n",
       "      <td>NaN</td>\n",
       "      <td>1.16</td>\n",
       "      <td>2.37</td>\n",
       "      <td>A</td>\n",
       "    </tr>\n",
       "    <tr>\n",
       "      <th>1</th>\n",
       "      <td>2</td>\n",
       "      <td>Prague17</td>\n",
       "      <td>Robert Heczko</td>\n",
       "      <td>MAM</td>\n",
       "      <td>68.6</td>\n",
       "      <td>13.674419</td>\n",
       "      <td>NaN</td>\n",
       "      <td>1.23</td>\n",
       "      <td>2.59</td>\n",
       "      <td>A</td>\n",
       "    </tr>\n",
       "    <tr>\n",
       "      <th>2</th>\n",
       "      <td>3</td>\n",
       "      <td>Prague17</td>\n",
       "      <td>Michon Jerome</td>\n",
       "      <td>MAM</td>\n",
       "      <td>82.7</td>\n",
       "      <td>13.520436</td>\n",
       "      <td>NaN</td>\n",
       "      <td>1.30</td>\n",
       "      <td>2.66</td>\n",
       "      <td>A</td>\n",
       "    </tr>\n",
       "    <tr>\n",
       "      <th>3</th>\n",
       "      <td>4</td>\n",
       "      <td>Prague17</td>\n",
       "      <td>Daniel Or lek</td>\n",
       "      <td>M45</td>\n",
       "      <td>137.5</td>\n",
       "      <td>12.258544</td>\n",
       "      <td>NaN</td>\n",
       "      <td>1.32</td>\n",
       "      <td>2.68</td>\n",
       "      <td>A</td>\n",
       "    </tr>\n",
       "    <tr>\n",
       "      <th>4</th>\n",
       "      <td>5</td>\n",
       "      <td>Prague17</td>\n",
       "      <td>Luk ? Mr zek</td>\n",
       "      <td>MAM</td>\n",
       "      <td>84.6</td>\n",
       "      <td>13.945055</td>\n",
       "      <td>NaN</td>\n",
       "      <td>1.36</td>\n",
       "      <td>2.74</td>\n",
       "      <td>A</td>\n",
       "    </tr>\n",
       "  </tbody>\n",
       "</table>\n",
       "</div>"
      ],
      "text/plain": [
       "   id  Marathon           Name Category  km4week    sp4week CrossTraining  \\\n",
       "0   1  Prague17   Blair MORGAN      MAM    132.8  14.434783           NaN   \n",
       "1   2  Prague17  Robert Heczko      MAM     68.6  13.674419           NaN   \n",
       "2   3  Prague17  Michon Jerome      MAM     82.7  13.520436           NaN   \n",
       "3   4  Prague17  Daniel Or lek      M45    137.5  12.258544           NaN   \n",
       "4   5  Prague17   Luk ? Mr zek      MAM     84.6  13.945055           NaN   \n",
       "\n",
       "  Wall21  MarathonTime CATEGORY  \n",
       "0   1.16          2.37        A  \n",
       "1   1.23          2.59        A  \n",
       "2   1.30          2.66        A  \n",
       "3   1.32          2.68        A  \n",
       "4   1.36          2.74        A  "
      ]
     },
     "execution_count": 33,
     "metadata": {},
     "output_type": "execute_result"
    }
   ],
   "source": [
    "df.head()"
   ]
  },
  {
   "cell_type": "code",
   "execution_count": 34,
   "metadata": {},
   "outputs": [
    {
     "data": {
      "text/html": [
       "<div>\n",
       "<style scoped>\n",
       "    .dataframe tbody tr th:only-of-type {\n",
       "        vertical-align: middle;\n",
       "    }\n",
       "\n",
       "    .dataframe tbody tr th {\n",
       "        vertical-align: top;\n",
       "    }\n",
       "\n",
       "    .dataframe thead th {\n",
       "        text-align: right;\n",
       "    }\n",
       "</style>\n",
       "<table border=\"1\" class=\"dataframe\">\n",
       "  <thead>\n",
       "    <tr style=\"text-align: right;\">\n",
       "      <th></th>\n",
       "      <th>id</th>\n",
       "      <th>Marathon</th>\n",
       "      <th>Name</th>\n",
       "      <th>Category</th>\n",
       "      <th>km4week</th>\n",
       "      <th>sp4week</th>\n",
       "      <th>CrossTraining</th>\n",
       "      <th>Wall21</th>\n",
       "      <th>MarathonTime</th>\n",
       "      <th>CATEGORY</th>\n",
       "    </tr>\n",
       "  </thead>\n",
       "  <tbody>\n",
       "    <tr>\n",
       "      <th>82</th>\n",
       "      <td>83</td>\n",
       "      <td>Prague17</td>\n",
       "      <td>Stefano Vegliani</td>\n",
       "      <td>M55</td>\n",
       "      <td>50.0</td>\n",
       "      <td>10.830325</td>\n",
       "      <td>NaN</td>\n",
       "      <td>2.02</td>\n",
       "      <td>3.93</td>\n",
       "      <td>D</td>\n",
       "    </tr>\n",
       "    <tr>\n",
       "      <th>83</th>\n",
       "      <td>84</td>\n",
       "      <td>Prague17</td>\n",
       "      <td>Andrej Madliak</td>\n",
       "      <td>M40</td>\n",
       "      <td>33.6</td>\n",
       "      <td>10.130653</td>\n",
       "      <td>ciclista 3h</td>\n",
       "      <td>1.94</td>\n",
       "      <td>3.93</td>\n",
       "      <td>D</td>\n",
       "    </tr>\n",
       "    <tr>\n",
       "      <th>84</th>\n",
       "      <td>85</td>\n",
       "      <td>Prague17</td>\n",
       "      <td>Yoi Ohsako</td>\n",
       "      <td>M40</td>\n",
       "      <td>55.4</td>\n",
       "      <td>11.043189</td>\n",
       "      <td>NaN</td>\n",
       "      <td>1.94</td>\n",
       "      <td>3.94</td>\n",
       "      <td>D</td>\n",
       "    </tr>\n",
       "    <tr>\n",
       "      <th>85</th>\n",
       "      <td>86</td>\n",
       "      <td>Prague17</td>\n",
       "      <td>Simon Dunn</td>\n",
       "      <td>M45</td>\n",
       "      <td>33.2</td>\n",
       "      <td>11.066667</td>\n",
       "      <td>NaN</td>\n",
       "      <td>2.05</td>\n",
       "      <td>3.95</td>\n",
       "      <td>D</td>\n",
       "    </tr>\n",
       "    <tr>\n",
       "      <th>86</th>\n",
       "      <td>87</td>\n",
       "      <td>Prague17</td>\n",
       "      <td>Pavel ?imek</td>\n",
       "      <td>M40</td>\n",
       "      <td>17.9</td>\n",
       "      <td>10.848485</td>\n",
       "      <td>ciclista 5h</td>\n",
       "      <td>2.05</td>\n",
       "      <td>3.98</td>\n",
       "      <td>D</td>\n",
       "    </tr>\n",
       "  </tbody>\n",
       "</table>\n",
       "</div>"
      ],
      "text/plain": [
       "    id  Marathon              Name Category  km4week    sp4week CrossTraining  \\\n",
       "82  83  Prague17  Stefano Vegliani      M55     50.0  10.830325           NaN   \n",
       "83  84  Prague17    Andrej Madliak      M40     33.6  10.130653   ciclista 3h   \n",
       "84  85  Prague17        Yoi Ohsako      M40     55.4  11.043189           NaN   \n",
       "85  86  Prague17        Simon Dunn      M45     33.2  11.066667           NaN   \n",
       "86  87  Prague17       Pavel ?imek      M40     17.9  10.848485   ciclista 5h   \n",
       "\n",
       "   Wall21  MarathonTime CATEGORY  \n",
       "82   2.02          3.93        D  \n",
       "83   1.94          3.93        D  \n",
       "84   1.94          3.94        D  \n",
       "85   2.05          3.95        D  \n",
       "86   2.05          3.98        D  "
      ]
     },
     "execution_count": 34,
     "metadata": {},
     "output_type": "execute_result"
    }
   ],
   "source": [
    "df.tail()"
   ]
  },
  {
   "cell_type": "code",
   "execution_count": 35,
   "metadata": {},
   "outputs": [
    {
     "data": {
      "text/plain": [
       "(87, 10)"
      ]
     },
     "execution_count": 35,
     "metadata": {},
     "output_type": "execute_result"
    }
   ],
   "source": [
    "df.shape"
   ]
  },
  {
   "cell_type": "code",
   "execution_count": 36,
   "metadata": {},
   "outputs": [
    {
     "name": "stdout",
     "output_type": "stream",
     "text": [
      "<class 'pandas.core.frame.DataFrame'>\n",
      "RangeIndex: 87 entries, 0 to 86\n",
      "Data columns (total 10 columns):\n",
      " #   Column         Non-Null Count  Dtype  \n",
      "---  ------         --------------  -----  \n",
      " 0   id             87 non-null     int64  \n",
      " 1   Marathon       87 non-null     object \n",
      " 2   Name           87 non-null     object \n",
      " 3   Category       81 non-null     object \n",
      " 4   km4week        87 non-null     float64\n",
      " 5   sp4week        87 non-null     float64\n",
      " 6   CrossTraining  13 non-null     object \n",
      " 7   Wall21         87 non-null     object \n",
      " 8   MarathonTime   87 non-null     float64\n",
      " 9   CATEGORY       87 non-null     object \n",
      "dtypes: float64(3), int64(1), object(6)\n",
      "memory usage: 6.9+ KB\n"
     ]
    }
   ],
   "source": [
    "df.info()"
   ]
  },
  {
   "cell_type": "code",
   "execution_count": 37,
   "metadata": {},
   "outputs": [
    {
     "data": {
      "text/html": [
       "<div>\n",
       "<style scoped>\n",
       "    .dataframe tbody tr th:only-of-type {\n",
       "        vertical-align: middle;\n",
       "    }\n",
       "\n",
       "    .dataframe tbody tr th {\n",
       "        vertical-align: top;\n",
       "    }\n",
       "\n",
       "    .dataframe thead th {\n",
       "        text-align: right;\n",
       "    }\n",
       "</style>\n",
       "<table border=\"1\" class=\"dataframe\">\n",
       "  <thead>\n",
       "    <tr style=\"text-align: right;\">\n",
       "      <th></th>\n",
       "      <th>id</th>\n",
       "      <th>km4week</th>\n",
       "      <th>sp4week</th>\n",
       "      <th>MarathonTime</th>\n",
       "    </tr>\n",
       "  </thead>\n",
       "  <tbody>\n",
       "    <tr>\n",
       "      <th>count</th>\n",
       "      <td>87.000000</td>\n",
       "      <td>87.000000</td>\n",
       "      <td>87.000000</td>\n",
       "      <td>87.000000</td>\n",
       "    </tr>\n",
       "    <tr>\n",
       "      <th>mean</th>\n",
       "      <td>44.000000</td>\n",
       "      <td>62.347126</td>\n",
       "      <td>139.840706</td>\n",
       "      <td>3.319080</td>\n",
       "    </tr>\n",
       "    <tr>\n",
       "      <th>std</th>\n",
       "      <td>25.258662</td>\n",
       "      <td>26.956019</td>\n",
       "      <td>1191.427864</td>\n",
       "      <td>0.376923</td>\n",
       "    </tr>\n",
       "    <tr>\n",
       "      <th>min</th>\n",
       "      <td>1.000000</td>\n",
       "      <td>17.900000</td>\n",
       "      <td>8.031414</td>\n",
       "      <td>2.370000</td>\n",
       "    </tr>\n",
       "    <tr>\n",
       "      <th>25%</th>\n",
       "      <td>22.500000</td>\n",
       "      <td>44.200000</td>\n",
       "      <td>11.498168</td>\n",
       "      <td>3.045000</td>\n",
       "    </tr>\n",
       "    <tr>\n",
       "      <th>50%</th>\n",
       "      <td>44.000000</td>\n",
       "      <td>58.800000</td>\n",
       "      <td>12.163424</td>\n",
       "      <td>3.320000</td>\n",
       "    </tr>\n",
       "    <tr>\n",
       "      <th>75%</th>\n",
       "      <td>65.500000</td>\n",
       "      <td>77.500000</td>\n",
       "      <td>12.854036</td>\n",
       "      <td>3.605000</td>\n",
       "    </tr>\n",
       "    <tr>\n",
       "      <th>max</th>\n",
       "      <td>87.000000</td>\n",
       "      <td>137.500000</td>\n",
       "      <td>11125.000000</td>\n",
       "      <td>3.980000</td>\n",
       "    </tr>\n",
       "  </tbody>\n",
       "</table>\n",
       "</div>"
      ],
      "text/plain": [
       "              id     km4week       sp4week  MarathonTime\n",
       "count  87.000000   87.000000     87.000000     87.000000\n",
       "mean   44.000000   62.347126    139.840706      3.319080\n",
       "std    25.258662   26.956019   1191.427864      0.376923\n",
       "min     1.000000   17.900000      8.031414      2.370000\n",
       "25%    22.500000   44.200000     11.498168      3.045000\n",
       "50%    44.000000   58.800000     12.163424      3.320000\n",
       "75%    65.500000   77.500000     12.854036      3.605000\n",
       "max    87.000000  137.500000  11125.000000      3.980000"
      ]
     },
     "execution_count": 37,
     "metadata": {},
     "output_type": "execute_result"
    }
   ],
   "source": [
    "df.describe()"
   ]
  },
  {
   "cell_type": "markdown",
   "metadata": {},
   "source": [
    "I drop \n",
    "* **id columns**:\n",
    "    * such as id of the runner\n",
    "    * marathon name \n",
    "    * name of the runner\n",
    "* **data that is obtained after the race**: \n",
    "    * Wall21 is the time in the race when the runnes does the half marathon\n",
    "    * Category is a bin variable of the Marathon time"
   ]
  },
  {
   "cell_type": "code",
   "execution_count": 38,
   "metadata": {},
   "outputs": [],
   "source": [
    "to_drop = ['id', 'Marathon', 'Name', 'Wall21', 'CATEGORY']\n",
    "df.drop(to_drop, axis = 1, inplace = True)"
   ]
  },
  {
   "cell_type": "markdown",
   "metadata": {},
   "source": [
    "## Numerical data"
   ]
  },
  {
   "cell_type": "markdown",
   "metadata": {},
   "source": [
    "### Histograms"
   ]
  },
  {
   "cell_type": "code",
   "execution_count": 39,
   "metadata": {},
   "outputs": [
    {
     "data": {
      "text/plain": [
       "['km4week', 'sp4week', 'MarathonTime']"
      ]
     },
     "execution_count": 39,
     "metadata": {},
     "output_type": "execute_result"
    }
   ],
   "source": [
    "num_vars = [var for var in df.columns if df[var].dtype != 'O']\n",
    "num_vars"
   ]
  },
  {
   "cell_type": "code",
   "execution_count": 40,
   "metadata": {},
   "outputs": [
    {
     "data": {
      "image/png": "[encoded data removed]",
      "text/plain": [
       "<Figure size 432x288 with 1 Axes>"
      ]
     },
     "metadata": {
      "needs_background": "light"
     },
     "output_type": "display_data"
    },
    {
     "data": {
      "image/png": "[encoded data removed]",
      "text/plain": [
       "<Figure size 432x288 with 1 Axes>"
      ]
     },
     "metadata": {
      "needs_background": "light"
     },
     "output_type": "display_data"
    },
    {
     "data": {
      "image/png": "[encoded data removed]",
      "text/plain": [
       "<Figure size 432x288 with 1 Axes>"
      ]
     },
     "metadata": {
      "needs_background": "light"
     },
     "output_type": "display_data"
    }
   ],
   "source": [
    "def plot_distribution(df, var):\n",
    "    plt.figure(figsize=(6,4))\n",
    "    plt.hist(df[var])\n",
    "    plt.title(var)\n",
    "    plt.show()\n",
    "    \n",
    "for var in num_vars:\n",
    "    plot_distribution(df, var)"
   ]
  },
  {
   "cell_type": "markdown",
   "metadata": {},
   "source": [
    "Clearly there is an outlier in sp4week variable. Let's remove it"
   ]
  },
  {
   "cell_type": "code",
   "execution_count": 41,
   "metadata": {},
   "outputs": [
    {
     "data": {
      "image/png": "[encoded data removed]",
      "text/plain": [
       "<Figure size 432x288 with 1 Axes>"
      ]
     },
     "metadata": {
      "needs_background": "light"
     },
     "output_type": "display_data"
    },
    {
     "data": {
      "image/png": "[encoded data removed]",
      "text/plain": [
       "<Figure size 432x288 with 1 Axes>"
      ]
     },
     "metadata": {
      "needs_background": "light"
     },
     "output_type": "display_data"
    },
    {
     "data": {
      "image/png": "[encoded data removed]",
      "text/plain": [
       "<Figure size 432x288 with 1 Axes>"
      ]
     },
     "metadata": {
      "needs_background": "light"
     },
     "output_type": "display_data"
    }
   ],
   "source": [
    "df = df[df['sp4week'] <= 10000]\n",
    "\n",
    "\n",
    "for var in num_vars:\n",
    "    plot_distribution(df, var)"
   ]
  },
  {
   "cell_type": "markdown",
   "metadata": {},
   "source": [
    "### Relation with target"
   ]
  },
  {
   "cell_type": "code",
   "execution_count": 42,
   "metadata": {},
   "outputs": [
    {
     "data": {
      "image/png": "[encoded data removed]",
      "text/plain": [
       "<Figure size 432x288 with 1 Axes>"
      ]
     },
     "metadata": {
      "needs_background": "light"
     },
     "output_type": "display_data"
    },
    {
     "data": {
      "image/png": "[encoded data removed]",
      "text/plain": [
       "<Figure size 432x288 with 1 Axes>"
      ]
     },
     "metadata": {
      "needs_background": "light"
     },
     "output_type": "display_data"
    }
   ],
   "source": [
    "def plot_scatter(df, var):\n",
    "    plt.figure(figsize=(6,4))\n",
    "    plt.scatter(df[var], df['MarathonTime'])\n",
    "    plt.title(var)\n",
    "    plt.xlabel(var)\n",
    "    plt.ylabel('MarathonTime')\n",
    "    plt.show()\n",
    "\n",
    "for var in num_vars:\n",
    "    if var != 'MarathonTime':\n",
    "        plot_scatter(df, var)"
   ]
  },
  {
   "cell_type": "markdown",
   "metadata": {},
   "source": [
    "## Categorical Data"
   ]
  },
  {
   "cell_type": "code",
   "execution_count": 43,
   "metadata": {},
   "outputs": [
    {
     "data": {
      "text/plain": [
       "['Category', 'CrossTraining']"
      ]
     },
     "execution_count": 43,
     "metadata": {},
     "output_type": "execute_result"
    }
   ],
   "source": [
    "cat_vars = [var for var in df.columns if df[var].dtype == 'O']\n",
    "cat_vars"
   ]
  },
  {
   "cell_type": "code",
   "execution_count": 44,
   "metadata": {},
   "outputs": [
    {
     "data": {
      "image/png": "[encoded data removed]",
      "text/plain": [
       "<Figure size 432x288 with 1 Axes>"
      ]
     },
     "metadata": {
      "needs_background": "light"
     },
     "output_type": "display_data"
    },
    {
     "data": {
      "image/png": "[encoded data removed]",
      "text/plain": [
       "<Figure size 432x288 with 1 Axes>"
      ]
     },
     "metadata": {
      "needs_background": "light"
     },
     "output_type": "display_data"
    }
   ],
   "source": [
    "def plot_categorical_data(data, var):\n",
    "    df = data.copy()\n",
    "    df[var] = df[var].fillna('Missing')\n",
    "    temp = df.groupby(var).median().sort_values(var, ascending=True)\n",
    "    plt.figure(figsize=(6,4))\n",
    "    plt.bar(x=temp.index, height=temp['MarathonTime'])\n",
    "    plt.title(var)\n",
    "    plt.show()\n",
    "\n",
    "for var in cat_vars:\n",
    "    plot_categorical_data(df, var)"
   ]
  },
  {
   "cell_type": "markdown",
   "metadata": {},
   "source": [
    "# Feature Engineering"
   ]
  },
  {
   "cell_type": "code",
   "execution_count": 45,
   "metadata": {},
   "outputs": [],
   "source": [
    "df = pd.read_csv('MarathonData.csv')"
   ]
  },
  {
   "cell_type": "code",
   "execution_count": 46,
   "metadata": {},
   "outputs": [],
   "source": [
    "to_drop = ['id', 'Marathon', 'Name', 'Wall21', 'CATEGORY']\n",
    "df.drop(to_drop, axis = 1, inplace = True)\n",
    "df = df[df['sp4week']<=5000]"
   ]
  },
  {
   "cell_type": "code",
   "execution_count": 47,
   "metadata": {},
   "outputs": [
    {
     "data": {
      "text/plain": [
       "((64, 5), (22, 5))"
      ]
     },
     "execution_count": 47,
     "metadata": {},
     "output_type": "execute_result"
    }
   ],
   "source": [
    "X_train, X_test, y_train, y_test = train_test_split(df,\n",
    "                                                    df['MarathonTime'],\n",
    "                                                    test_size=0.25,\n",
    "                                                    random_state=42)\n",
    "\n",
    "X_train = pd.DataFrame(X_train,\n",
    "                       columns = df.columns)\n",
    "\n",
    "X_test = pd.DataFrame(X_test,\n",
    "                      columns = df.columns)\n",
    "\n",
    "X_train.shape, X_test.shape"
   ]
  },
  {
   "cell_type": "code",
   "execution_count": 48,
   "metadata": {},
   "outputs": [
    {
     "name": "stdout",
     "output_type": "stream",
     "text": [
      "<class 'pandas.core.frame.DataFrame'>\n",
      "Int64Index: 64 entries, 40 to 51\n",
      "Data columns (total 5 columns):\n",
      " #   Column         Non-Null Count  Dtype  \n",
      "---  ------         --------------  -----  \n",
      " 0   Category       60 non-null     object \n",
      " 1   km4week        64 non-null     float64\n",
      " 2   sp4week        64 non-null     float64\n",
      " 3   CrossTraining  9 non-null      object \n",
      " 4   MarathonTime   64 non-null     float64\n",
      "dtypes: float64(3), object(2)\n",
      "memory usage: 3.0+ KB\n"
     ]
    }
   ],
   "source": [
    "X_train.info()"
   ]
  },
  {
   "cell_type": "markdown",
   "metadata": {},
   "source": [
    "Only categorical data has missing values"
   ]
  },
  {
   "cell_type": "markdown",
   "metadata": {},
   "source": [
    "# Missing Values"
   ]
  },
  {
   "cell_type": "code",
   "execution_count": 49,
   "metadata": {},
   "outputs": [
    {
     "data": {
      "text/plain": [
       "Category         0.062500\n",
       "CrossTraining    0.859375\n",
       "dtype: float64"
      ]
     },
     "execution_count": 49,
     "metadata": {},
     "output_type": "execute_result"
    }
   ],
   "source": [
    "vars_with_na = [\n",
    "    var for var in X_train.columns\n",
    "    if X_train[var].isnull().sum() > 0 and X_train[var].dtypes == 'O'\n",
    "]\n",
    "\n",
    "X_train[vars_with_na].isnull().mean()"
   ]
  },
  {
   "cell_type": "code",
   "execution_count": 51,
   "metadata": {},
   "outputs": [],
   "source": [
    "X_train[vars_with_na] = X_train[vars_with_na].fillna('Missing')\n",
    "X_test[vars_with_na] = X_test[vars_with_na].fillna('Missing')"
   ]
  },
  {
   "cell_type": "code",
   "execution_count": 52,
   "metadata": {},
   "outputs": [
    {
     "data": {
      "text/plain": [
       "[]"
      ]
     },
     "execution_count": 52,
     "metadata": {},
     "output_type": "execute_result"
    }
   ],
   "source": [
    "# check that test set does not contain null values in the engineered variables\n",
    "[var for var in vars_with_na if X_test[var].isnull().sum() > 0]"
   ]
  },
  {
   "cell_type": "markdown",
   "metadata": {},
   "source": [
    "# Categocial encoder"
   ]
  },
  {
   "cell_type": "code",
   "execution_count": 53,
   "metadata": {},
   "outputs": [
    {
     "data": {
      "text/plain": [
       "['Category', 'CrossTraining']"
      ]
     },
     "execution_count": 53,
     "metadata": {},
     "output_type": "execute_result"
    }
   ],
   "source": [
    "cat_vars = [var for var in X_train.columns if X_train[var].dtype == 'O']\n",
    "cat_vars"
   ]
  },
  {
   "cell_type": "code",
   "execution_count": 54,
   "metadata": {},
   "outputs": [],
   "source": [
    "def find_frequent_labels(df, var, rare_perc):\n",
    "\n",
    "    df = df.copy()\n",
    "\n",
    "    tmp = df.groupby(var)['MarathonTime'].count() / len(df)\n",
    "\n",
    "    return tmp[tmp > rare_perc].index\n",
    "\n",
    "for var in cat_vars:\n",
    "    \n",
    "    # find the frequent categories\n",
    "    frequent_ls = find_frequent_labels(X_train, var, 0.05)\n",
    "    \n",
    "    # replace rare categories by the string \"Rare\"\n",
    "    X_train[var] = np.where(X_train[var].isin(\n",
    "        frequent_ls), X_train[var], 'Rare')\n",
    "    \n",
    "    X_test[var] = np.where(X_test[var].isin(\n",
    "        frequent_ls), X_test[var], 'Rare')"
   ]
  },
  {
   "cell_type": "code",
   "execution_count": 55,
   "metadata": {},
   "outputs": [
    {
     "data": {
      "text/html": [
       "<div>\n",
       "<style scoped>\n",
       "    .dataframe tbody tr th:only-of-type {\n",
       "        vertical-align: middle;\n",
       "    }\n",
       "\n",
       "    .dataframe tbody tr th {\n",
       "        vertical-align: top;\n",
       "    }\n",
       "\n",
       "    .dataframe thead th {\n",
       "        text-align: right;\n",
       "    }\n",
       "</style>\n",
       "<table border=\"1\" class=\"dataframe\">\n",
       "  <thead>\n",
       "    <tr style=\"text-align: right;\">\n",
       "      <th></th>\n",
       "      <th>Category</th>\n",
       "      <th>km4week</th>\n",
       "      <th>sp4week</th>\n",
       "      <th>CrossTraining</th>\n",
       "      <th>MarathonTime</th>\n",
       "    </tr>\n",
       "  </thead>\n",
       "  <tbody>\n",
       "    <tr>\n",
       "      <th>75</th>\n",
       "      <td>MAM</td>\n",
       "      <td>23.9</td>\n",
       "      <td>12.050420</td>\n",
       "      <td>Rare</td>\n",
       "      <td>3.78</td>\n",
       "    </tr>\n",
       "    <tr>\n",
       "      <th>0</th>\n",
       "      <td>MAM</td>\n",
       "      <td>132.8</td>\n",
       "      <td>14.434783</td>\n",
       "      <td>Missing</td>\n",
       "      <td>2.37</td>\n",
       "    </tr>\n",
       "    <tr>\n",
       "      <th>70</th>\n",
       "      <td>M45</td>\n",
       "      <td>87.0</td>\n",
       "      <td>11.472527</td>\n",
       "      <td>Missing</td>\n",
       "      <td>3.68</td>\n",
       "    </tr>\n",
       "    <tr>\n",
       "      <th>22</th>\n",
       "      <td>M40</td>\n",
       "      <td>59.4</td>\n",
       "      <td>12.638298</td>\n",
       "      <td>Missing</td>\n",
       "      <td>3.05</td>\n",
       "    </tr>\n",
       "    <tr>\n",
       "      <th>12</th>\n",
       "      <td>M45</td>\n",
       "      <td>53.5</td>\n",
       "      <td>14.078947</td>\n",
       "      <td>Rare</td>\n",
       "      <td>2.88</td>\n",
       "    </tr>\n",
       "    <tr>\n",
       "      <th>56</th>\n",
       "      <td>MAM</td>\n",
       "      <td>56.2</td>\n",
       "      <td>12.086022</td>\n",
       "      <td>Missing</td>\n",
       "      <td>3.50</td>\n",
       "    </tr>\n",
       "    <tr>\n",
       "      <th>10</th>\n",
       "      <td>MAM</td>\n",
       "      <td>93.5</td>\n",
       "      <td>13.200000</td>\n",
       "      <td>Missing</td>\n",
       "      <td>2.87</td>\n",
       "    </tr>\n",
       "    <tr>\n",
       "      <th>18</th>\n",
       "      <td>MAM</td>\n",
       "      <td>84.5</td>\n",
       "      <td>12.549505</td>\n",
       "      <td>Missing</td>\n",
       "      <td>2.93</td>\n",
       "    </tr>\n",
       "    <tr>\n",
       "      <th>4</th>\n",
       "      <td>MAM</td>\n",
       "      <td>84.6</td>\n",
       "      <td>13.945055</td>\n",
       "      <td>Missing</td>\n",
       "      <td>2.74</td>\n",
       "    </tr>\n",
       "    <tr>\n",
       "      <th>67</th>\n",
       "      <td>MAM</td>\n",
       "      <td>34.3</td>\n",
       "      <td>11.307692</td>\n",
       "      <td>Missing</td>\n",
       "      <td>3.64</td>\n",
       "    </tr>\n",
       "    <tr>\n",
       "      <th>61</th>\n",
       "      <td>MAM</td>\n",
       "      <td>54.1</td>\n",
       "      <td>11.116438</td>\n",
       "      <td>Missing</td>\n",
       "      <td>3.55</td>\n",
       "    </tr>\n",
       "    <tr>\n",
       "      <th>64</th>\n",
       "      <td>M40</td>\n",
       "      <td>54.2</td>\n",
       "      <td>11.782609</td>\n",
       "      <td>Missing</td>\n",
       "      <td>3.59</td>\n",
       "    </tr>\n",
       "    <tr>\n",
       "      <th>53</th>\n",
       "      <td>Missing</td>\n",
       "      <td>51.1</td>\n",
       "      <td>11.230769</td>\n",
       "      <td>Missing</td>\n",
       "      <td>3.47</td>\n",
       "    </tr>\n",
       "    <tr>\n",
       "      <th>73</th>\n",
       "      <td>Missing</td>\n",
       "      <td>53.6</td>\n",
       "      <td>12.711462</td>\n",
       "      <td>Missing</td>\n",
       "      <td>3.75</td>\n",
       "    </tr>\n",
       "    <tr>\n",
       "      <th>62</th>\n",
       "      <td>M45</td>\n",
       "      <td>48.8</td>\n",
       "      <td>11.665339</td>\n",
       "      <td>Missing</td>\n",
       "      <td>3.56</td>\n",
       "    </tr>\n",
       "    <tr>\n",
       "      <th>66</th>\n",
       "      <td>MAM</td>\n",
       "      <td>48.5</td>\n",
       "      <td>11.022727</td>\n",
       "      <td>Rare</td>\n",
       "      <td>3.64</td>\n",
       "    </tr>\n",
       "    <tr>\n",
       "      <th>33</th>\n",
       "      <td>Rare</td>\n",
       "      <td>112.4</td>\n",
       "      <td>12.284153</td>\n",
       "      <td>Missing</td>\n",
       "      <td>3.21</td>\n",
       "    </tr>\n",
       "    <tr>\n",
       "      <th>78</th>\n",
       "      <td>MAM</td>\n",
       "      <td>28.0</td>\n",
       "      <td>11.200000</td>\n",
       "      <td>Missing</td>\n",
       "      <td>3.89</td>\n",
       "    </tr>\n",
       "    <tr>\n",
       "      <th>54</th>\n",
       "      <td>M40</td>\n",
       "      <td>70.7</td>\n",
       "      <td>11.783333</td>\n",
       "      <td>Missing</td>\n",
       "      <td>3.47</td>\n",
       "    </tr>\n",
       "    <tr>\n",
       "      <th>72</th>\n",
       "      <td>Rare</td>\n",
       "      <td>52.3</td>\n",
       "      <td>11.708955</td>\n",
       "      <td>Missing</td>\n",
       "      <td>3.69</td>\n",
       "    </tr>\n",
       "    <tr>\n",
       "      <th>11</th>\n",
       "      <td>Rare</td>\n",
       "      <td>65.7</td>\n",
       "      <td>13.362712</td>\n",
       "      <td>Missing</td>\n",
       "      <td>2.87</td>\n",
       "    </tr>\n",
       "    <tr>\n",
       "      <th>30</th>\n",
       "      <td>MAM</td>\n",
       "      <td>52.5</td>\n",
       "      <td>12.549801</td>\n",
       "      <td>Rare</td>\n",
       "      <td>3.19</td>\n",
       "    </tr>\n",
       "  </tbody>\n",
       "</table>\n",
       "</div>"
      ],
      "text/plain": [
       "   Category  km4week    sp4week CrossTraining  MarathonTime\n",
       "75      MAM     23.9  12.050420          Rare          3.78\n",
       "0       MAM    132.8  14.434783       Missing          2.37\n",
       "70      M45     87.0  11.472527       Missing          3.68\n",
       "22      M40     59.4  12.638298       Missing          3.05\n",
       "12      M45     53.5  14.078947          Rare          2.88\n",
       "56      MAM     56.2  12.086022       Missing          3.50\n",
       "10      MAM     93.5  13.200000       Missing          2.87\n",
       "18      MAM     84.5  12.549505       Missing          2.93\n",
       "4       MAM     84.6  13.945055       Missing          2.74\n",
       "67      MAM     34.3  11.307692       Missing          3.64\n",
       "61      MAM     54.1  11.116438       Missing          3.55\n",
       "64      M40     54.2  11.782609       Missing          3.59\n",
       "53  Missing     51.1  11.230769       Missing          3.47\n",
       "73  Missing     53.6  12.711462       Missing          3.75\n",
       "62      M45     48.8  11.665339       Missing          3.56\n",
       "66      MAM     48.5  11.022727          Rare          3.64\n",
       "33     Rare    112.4  12.284153       Missing          3.21\n",
       "78      MAM     28.0  11.200000       Missing          3.89\n",
       "54      M40     70.7  11.783333       Missing          3.47\n",
       "72     Rare     52.3  11.708955       Missing          3.69\n",
       "11     Rare     65.7  13.362712       Missing          2.87\n",
       "30      MAM     52.5  12.549801          Rare          3.19"
      ]
     },
     "execution_count": 55,
     "metadata": {},
     "output_type": "execute_result"
    }
   ],
   "source": [
    "X_test"
   ]
  },
  {
   "cell_type": "code",
   "execution_count": 56,
   "metadata": {},
   "outputs": [],
   "source": [
    "# this function will assign discrete values to the strings of the variables,\n",
    "# so that the smaller value corresponds to the category that shows the lower\n",
    "# median Marathon Time\n",
    "\n",
    "\n",
    "def replace_categories(train, test, var, target):\n",
    "\n",
    "    # order the categories in a variable from that with the lowest\n",
    "    # marathon time, to that with the highest\n",
    "    ordered_labels = train.groupby([var])[target].median().sort_values().index\n",
    "\n",
    "    # create a dictionary of ordered categories to integer values\n",
    "    ordinal_label = {k: i for i, k in enumerate(ordered_labels, 0)}\n",
    "\n",
    "    # use the dictionary to replace the categorical strings by integers\n",
    "    train[var] = train[var].map(ordinal_label)\n",
    "    test[var] = test[var].map(ordinal_label)"
   ]
  },
  {
   "cell_type": "code",
   "execution_count": 57,
   "metadata": {},
   "outputs": [],
   "source": [
    "for var in cat_vars:\n",
    "    replace_categories(X_train, X_test, var, 'MarathonTime')"
   ]
  },
  {
   "cell_type": "code",
   "execution_count": 58,
   "metadata": {},
   "outputs": [
    {
     "data": {
      "text/html": [
       "<div>\n",
       "<style scoped>\n",
       "    .dataframe tbody tr th:only-of-type {\n",
       "        vertical-align: middle;\n",
       "    }\n",
       "\n",
       "    .dataframe tbody tr th {\n",
       "        vertical-align: top;\n",
       "    }\n",
       "\n",
       "    .dataframe thead th {\n",
       "        text-align: right;\n",
       "    }\n",
       "</style>\n",
       "<table border=\"1\" class=\"dataframe\">\n",
       "  <thead>\n",
       "    <tr style=\"text-align: right;\">\n",
       "      <th></th>\n",
       "      <th>Category</th>\n",
       "      <th>km4week</th>\n",
       "      <th>sp4week</th>\n",
       "      <th>CrossTraining</th>\n",
       "      <th>MarathonTime</th>\n",
       "    </tr>\n",
       "  </thead>\n",
       "  <tbody>\n",
       "    <tr>\n",
       "      <th>75</th>\n",
       "      <td>2</td>\n",
       "      <td>23.9</td>\n",
       "      <td>12.050420</td>\n",
       "      <td>1</td>\n",
       "      <td>3.78</td>\n",
       "    </tr>\n",
       "    <tr>\n",
       "      <th>0</th>\n",
       "      <td>2</td>\n",
       "      <td>132.8</td>\n",
       "      <td>14.434783</td>\n",
       "      <td>0</td>\n",
       "      <td>2.37</td>\n",
       "    </tr>\n",
       "    <tr>\n",
       "      <th>70</th>\n",
       "      <td>0</td>\n",
       "      <td>87.0</td>\n",
       "      <td>11.472527</td>\n",
       "      <td>0</td>\n",
       "      <td>3.68</td>\n",
       "    </tr>\n",
       "    <tr>\n",
       "      <th>22</th>\n",
       "      <td>4</td>\n",
       "      <td>59.4</td>\n",
       "      <td>12.638298</td>\n",
       "      <td>0</td>\n",
       "      <td>3.05</td>\n",
       "    </tr>\n",
       "    <tr>\n",
       "      <th>12</th>\n",
       "      <td>0</td>\n",
       "      <td>53.5</td>\n",
       "      <td>14.078947</td>\n",
       "      <td>1</td>\n",
       "      <td>2.88</td>\n",
       "    </tr>\n",
       "    <tr>\n",
       "      <th>56</th>\n",
       "      <td>2</td>\n",
       "      <td>56.2</td>\n",
       "      <td>12.086022</td>\n",
       "      <td>0</td>\n",
       "      <td>3.50</td>\n",
       "    </tr>\n",
       "    <tr>\n",
       "      <th>10</th>\n",
       "      <td>2</td>\n",
       "      <td>93.5</td>\n",
       "      <td>13.200000</td>\n",
       "      <td>0</td>\n",
       "      <td>2.87</td>\n",
       "    </tr>\n",
       "    <tr>\n",
       "      <th>18</th>\n",
       "      <td>2</td>\n",
       "      <td>84.5</td>\n",
       "      <td>12.549505</td>\n",
       "      <td>0</td>\n",
       "      <td>2.93</td>\n",
       "    </tr>\n",
       "    <tr>\n",
       "      <th>4</th>\n",
       "      <td>2</td>\n",
       "      <td>84.6</td>\n",
       "      <td>13.945055</td>\n",
       "      <td>0</td>\n",
       "      <td>2.74</td>\n",
       "    </tr>\n",
       "    <tr>\n",
       "      <th>67</th>\n",
       "      <td>2</td>\n",
       "      <td>34.3</td>\n",
       "      <td>11.307692</td>\n",
       "      <td>0</td>\n",
       "      <td>3.64</td>\n",
       "    </tr>\n",
       "    <tr>\n",
       "      <th>61</th>\n",
       "      <td>2</td>\n",
       "      <td>54.1</td>\n",
       "      <td>11.116438</td>\n",
       "      <td>0</td>\n",
       "      <td>3.55</td>\n",
       "    </tr>\n",
       "    <tr>\n",
       "      <th>64</th>\n",
       "      <td>4</td>\n",
       "      <td>54.2</td>\n",
       "      <td>11.782609</td>\n",
       "      <td>0</td>\n",
       "      <td>3.59</td>\n",
       "    </tr>\n",
       "    <tr>\n",
       "      <th>53</th>\n",
       "      <td>3</td>\n",
       "      <td>51.1</td>\n",
       "      <td>11.230769</td>\n",
       "      <td>0</td>\n",
       "      <td>3.47</td>\n",
       "    </tr>\n",
       "    <tr>\n",
       "      <th>73</th>\n",
       "      <td>3</td>\n",
       "      <td>53.6</td>\n",
       "      <td>12.711462</td>\n",
       "      <td>0</td>\n",
       "      <td>3.75</td>\n",
       "    </tr>\n",
       "    <tr>\n",
       "      <th>62</th>\n",
       "      <td>0</td>\n",
       "      <td>48.8</td>\n",
       "      <td>11.665339</td>\n",
       "      <td>0</td>\n",
       "      <td>3.56</td>\n",
       "    </tr>\n",
       "    <tr>\n",
       "      <th>66</th>\n",
       "      <td>2</td>\n",
       "      <td>48.5</td>\n",
       "      <td>11.022727</td>\n",
       "      <td>1</td>\n",
       "      <td>3.64</td>\n",
       "    </tr>\n",
       "    <tr>\n",
       "      <th>33</th>\n",
       "      <td>1</td>\n",
       "      <td>112.4</td>\n",
       "      <td>12.284153</td>\n",
       "      <td>0</td>\n",
       "      <td>3.21</td>\n",
       "    </tr>\n",
       "    <tr>\n",
       "      <th>78</th>\n",
       "      <td>2</td>\n",
       "      <td>28.0</td>\n",
       "      <td>11.200000</td>\n",
       "      <td>0</td>\n",
       "      <td>3.89</td>\n",
       "    </tr>\n",
       "    <tr>\n",
       "      <th>54</th>\n",
       "      <td>4</td>\n",
       "      <td>70.7</td>\n",
       "      <td>11.783333</td>\n",
       "      <td>0</td>\n",
       "      <td>3.47</td>\n",
       "    </tr>\n",
       "    <tr>\n",
       "      <th>72</th>\n",
       "      <td>1</td>\n",
       "      <td>52.3</td>\n",
       "      <td>11.708955</td>\n",
       "      <td>0</td>\n",
       "      <td>3.69</td>\n",
       "    </tr>\n",
       "    <tr>\n",
       "      <th>11</th>\n",
       "      <td>1</td>\n",
       "      <td>65.7</td>\n",
       "      <td>13.362712</td>\n",
       "      <td>0</td>\n",
       "      <td>2.87</td>\n",
       "    </tr>\n",
       "    <tr>\n",
       "      <th>30</th>\n",
       "      <td>2</td>\n",
       "      <td>52.5</td>\n",
       "      <td>12.549801</td>\n",
       "      <td>1</td>\n",
       "      <td>3.19</td>\n",
       "    </tr>\n",
       "  </tbody>\n",
       "</table>\n",
       "</div>"
      ],
      "text/plain": [
       "    Category  km4week    sp4week  CrossTraining  MarathonTime\n",
       "75         2     23.9  12.050420              1          3.78\n",
       "0          2    132.8  14.434783              0          2.37\n",
       "70         0     87.0  11.472527              0          3.68\n",
       "22         4     59.4  12.638298              0          3.05\n",
       "12         0     53.5  14.078947              1          2.88\n",
       "56         2     56.2  12.086022              0          3.50\n",
       "10         2     93.5  13.200000              0          2.87\n",
       "18         2     84.5  12.549505              0          2.93\n",
       "4          2     84.6  13.945055              0          2.74\n",
       "67         2     34.3  11.307692              0          3.64\n",
       "61         2     54.1  11.116438              0          3.55\n",
       "64         4     54.2  11.782609              0          3.59\n",
       "53         3     51.1  11.230769              0          3.47\n",
       "73         3     53.6  12.711462              0          3.75\n",
       "62         0     48.8  11.665339              0          3.56\n",
       "66         2     48.5  11.022727              1          3.64\n",
       "33         1    112.4  12.284153              0          3.21\n",
       "78         2     28.0  11.200000              0          3.89\n",
       "54         4     70.7  11.783333              0          3.47\n",
       "72         1     52.3  11.708955              0          3.69\n",
       "11         1     65.7  13.362712              0          2.87\n",
       "30         2     52.5  12.549801              1          3.19"
      ]
     },
     "execution_count": 58,
     "metadata": {},
     "output_type": "execute_result"
    }
   ],
   "source": [
    "X_test"
   ]
  },
  {
   "cell_type": "code",
   "execution_count": 59,
   "metadata": {},
   "outputs": [
    {
     "data": {
      "text/plain": [
       "[]"
      ]
     },
     "execution_count": 59,
     "metadata": {},
     "output_type": "execute_result"
    }
   ],
   "source": [
    "# check absence of na in the train set\n",
    "[var for var in X_train.columns if X_train[var].isnull().sum() > 0]"
   ]
  },
  {
   "cell_type": "code",
   "execution_count": 60,
   "metadata": {},
   "outputs": [
    {
     "data": {
      "text/plain": [
       "[]"
      ]
     },
     "execution_count": 60,
     "metadata": {},
     "output_type": "execute_result"
    }
   ],
   "source": [
    "# check absence of na in the test set\n",
    "[var for var in X_test.columns if X_test[var].isnull().sum() > 0]"
   ]
  },
  {
   "cell_type": "code",
   "execution_count": 61,
   "metadata": {},
   "outputs": [
    {
     "data": {
      "image/png": "[encoded data removed]",
      "text/plain": [
       "<Figure size 432x288 with 1 Axes>"
      ]
     },
     "metadata": {
      "needs_background": "light"
     },
     "output_type": "display_data"
    },
    {
     "data": {
      "image/png": "[encoded data removed]",
      "text/plain": [
       "<Figure size 432x288 with 1 Axes>"
      ]
     },
     "metadata": {
      "needs_background": "light"
     },
     "output_type": "display_data"
    }
   ],
   "source": [
    "def analyse_vars(df, var):\n",
    "    \n",
    "    # function plots median marathon time per encoded\n",
    "    # category\n",
    "    \n",
    "    df = df.copy()\n",
    "    df.groupby(var)['MarathonTime'].median().plot.bar()\n",
    "    plt.title(var)\n",
    "    plt.ylabel('MarathonTime')\n",
    "    plt.show()\n",
    "    \n",
    "for var in cat_vars:\n",
    "    analyse_vars(X_train, var)"
   ]
  },
  {
   "cell_type": "markdown",
   "metadata": {},
   "source": [
    "# Numerical variables"
   ]
  },
  {
   "cell_type": "code",
   "execution_count": 62,
   "metadata": {},
   "outputs": [
    {
     "data": {
      "image/png": "[encoded data removed]",
      "text/plain": [
       "<Figure size 720x360 with 1 Axes>"
      ]
     },
     "metadata": {
      "needs_background": "light"
     },
     "output_type": "display_data"
    }
   ],
   "source": [
    "plt.figure(figsize=(10,5))\n",
    "plt.scatter(x=X_train['MarathonTime'], y=X_train['sp4week'])\n",
    "plt.show()"
   ]
  },
  {
   "cell_type": "code",
   "execution_count": 63,
   "metadata": {},
   "outputs": [
    {
     "data": {
      "text/html": [
       "<div>\n",
       "<style scoped>\n",
       "    .dataframe tbody tr th:only-of-type {\n",
       "        vertical-align: middle;\n",
       "    }\n",
       "\n",
       "    .dataframe tbody tr th {\n",
       "        vertical-align: top;\n",
       "    }\n",
       "\n",
       "    .dataframe thead th {\n",
       "        text-align: right;\n",
       "    }\n",
       "</style>\n",
       "<table border=\"1\" class=\"dataframe\">\n",
       "  <thead>\n",
       "    <tr style=\"text-align: right;\">\n",
       "      <th></th>\n",
       "      <th>Category</th>\n",
       "      <th>km4week</th>\n",
       "      <th>sp4week</th>\n",
       "      <th>CrossTraining</th>\n",
       "      <th>MarathonTime</th>\n",
       "    </tr>\n",
       "  </thead>\n",
       "  <tbody>\n",
       "    <tr>\n",
       "      <th>40</th>\n",
       "      <td>0</td>\n",
       "      <td>61.3</td>\n",
       "      <td>12.383838</td>\n",
       "      <td>0</td>\n",
       "      <td>3.28</td>\n",
       "    </tr>\n",
       "    <tr>\n",
       "      <th>28</th>\n",
       "      <td>0</td>\n",
       "      <td>51.6</td>\n",
       "      <td>13.008403</td>\n",
       "      <td>0</td>\n",
       "      <td>3.15</td>\n",
       "    </tr>\n",
       "    <tr>\n",
       "      <th>9</th>\n",
       "      <td>0</td>\n",
       "      <td>84.2</td>\n",
       "      <td>13.365079</td>\n",
       "      <td>0</td>\n",
       "      <td>2.86</td>\n",
       "    </tr>\n",
       "    <tr>\n",
       "      <th>65</th>\n",
       "      <td>0</td>\n",
       "      <td>60.3</td>\n",
       "      <td>11.708738</td>\n",
       "      <td>0</td>\n",
       "      <td>3.62</td>\n",
       "    </tr>\n",
       "    <tr>\n",
       "      <th>5</th>\n",
       "      <td>4</td>\n",
       "      <td>42.2</td>\n",
       "      <td>13.612903</td>\n",
       "      <td>0</td>\n",
       "      <td>2.78</td>\n",
       "    </tr>\n",
       "    <tr>\n",
       "      <th>...</th>\n",
       "      <td>...</td>\n",
       "      <td>...</td>\n",
       "      <td>...</td>\n",
       "      <td>...</td>\n",
       "      <td>...</td>\n",
       "    </tr>\n",
       "    <tr>\n",
       "      <th>20</th>\n",
       "      <td>2</td>\n",
       "      <td>94.5</td>\n",
       "      <td>11.886792</td>\n",
       "      <td>0</td>\n",
       "      <td>2.99</td>\n",
       "    </tr>\n",
       "    <tr>\n",
       "      <th>60</th>\n",
       "      <td>4</td>\n",
       "      <td>43.2</td>\n",
       "      <td>10.936709</td>\n",
       "      <td>0</td>\n",
       "      <td>3.55</td>\n",
       "    </tr>\n",
       "    <tr>\n",
       "      <th>71</th>\n",
       "      <td>1</td>\n",
       "      <td>24.2</td>\n",
       "      <td>11.523810</td>\n",
       "      <td>1</td>\n",
       "      <td>3.69</td>\n",
       "    </tr>\n",
       "    <tr>\n",
       "      <th>14</th>\n",
       "      <td>2</td>\n",
       "      <td>76.8</td>\n",
       "      <td>12.943820</td>\n",
       "      <td>0</td>\n",
       "      <td>2.89</td>\n",
       "    </tr>\n",
       "    <tr>\n",
       "      <th>51</th>\n",
       "      <td>3</td>\n",
       "      <td>70.7</td>\n",
       "      <td>12.662687</td>\n",
       "      <td>0</td>\n",
       "      <td>3.45</td>\n",
       "    </tr>\n",
       "  </tbody>\n",
       "</table>\n",
       "<p>64 rows × 5 columns</p>\n",
       "</div>"
      ],
      "text/plain": [
       "    Category  km4week    sp4week  CrossTraining  MarathonTime\n",
       "40         0     61.3  12.383838              0          3.28\n",
       "28         0     51.6  13.008403              0          3.15\n",
       "9          0     84.2  13.365079              0          2.86\n",
       "65         0     60.3  11.708738              0          3.62\n",
       "5          4     42.2  13.612903              0          2.78\n",
       "..       ...      ...        ...            ...           ...\n",
       "20         2     94.5  11.886792              0          2.99\n",
       "60         4     43.2  10.936709              0          3.55\n",
       "71         1     24.2  11.523810              1          3.69\n",
       "14         2     76.8  12.943820              0          2.89\n",
       "51         3     70.7  12.662687              0          3.45\n",
       "\n",
       "[64 rows x 5 columns]"
      ]
     },
     "execution_count": 63,
     "metadata": {},
     "output_type": "execute_result"
    }
   ],
   "source": [
    "X_train"
   ]
  },
  {
   "cell_type": "code",
   "execution_count": 64,
   "metadata": {},
   "outputs": [
    {
     "data": {
      "text/html": [
       "<div>\n",
       "<style scoped>\n",
       "    .dataframe tbody tr th:only-of-type {\n",
       "        vertical-align: middle;\n",
       "    }\n",
       "\n",
       "    .dataframe tbody tr th {\n",
       "        vertical-align: top;\n",
       "    }\n",
       "\n",
       "    .dataframe thead th {\n",
       "        text-align: right;\n",
       "    }\n",
       "</style>\n",
       "<table border=\"1\" class=\"dataframe\">\n",
       "  <thead>\n",
       "    <tr style=\"text-align: right;\">\n",
       "      <th></th>\n",
       "      <th>Category</th>\n",
       "      <th>km4week</th>\n",
       "      <th>sp4week</th>\n",
       "      <th>CrossTraining</th>\n",
       "      <th>MarathonTime</th>\n",
       "    </tr>\n",
       "  </thead>\n",
       "  <tbody>\n",
       "    <tr>\n",
       "      <th>75</th>\n",
       "      <td>2</td>\n",
       "      <td>23.9</td>\n",
       "      <td>12.050420</td>\n",
       "      <td>1</td>\n",
       "      <td>3.78</td>\n",
       "    </tr>\n",
       "    <tr>\n",
       "      <th>0</th>\n",
       "      <td>2</td>\n",
       "      <td>132.8</td>\n",
       "      <td>14.434783</td>\n",
       "      <td>0</td>\n",
       "      <td>2.37</td>\n",
       "    </tr>\n",
       "    <tr>\n",
       "      <th>70</th>\n",
       "      <td>0</td>\n",
       "      <td>87.0</td>\n",
       "      <td>11.472527</td>\n",
       "      <td>0</td>\n",
       "      <td>3.68</td>\n",
       "    </tr>\n",
       "    <tr>\n",
       "      <th>22</th>\n",
       "      <td>4</td>\n",
       "      <td>59.4</td>\n",
       "      <td>12.638298</td>\n",
       "      <td>0</td>\n",
       "      <td>3.05</td>\n",
       "    </tr>\n",
       "    <tr>\n",
       "      <th>12</th>\n",
       "      <td>0</td>\n",
       "      <td>53.5</td>\n",
       "      <td>14.078947</td>\n",
       "      <td>1</td>\n",
       "      <td>2.88</td>\n",
       "    </tr>\n",
       "    <tr>\n",
       "      <th>56</th>\n",
       "      <td>2</td>\n",
       "      <td>56.2</td>\n",
       "      <td>12.086022</td>\n",
       "      <td>0</td>\n",
       "      <td>3.50</td>\n",
       "    </tr>\n",
       "    <tr>\n",
       "      <th>10</th>\n",
       "      <td>2</td>\n",
       "      <td>93.5</td>\n",
       "      <td>13.200000</td>\n",
       "      <td>0</td>\n",
       "      <td>2.87</td>\n",
       "    </tr>\n",
       "    <tr>\n",
       "      <th>18</th>\n",
       "      <td>2</td>\n",
       "      <td>84.5</td>\n",
       "      <td>12.549505</td>\n",
       "      <td>0</td>\n",
       "      <td>2.93</td>\n",
       "    </tr>\n",
       "    <tr>\n",
       "      <th>4</th>\n",
       "      <td>2</td>\n",
       "      <td>84.6</td>\n",
       "      <td>13.945055</td>\n",
       "      <td>0</td>\n",
       "      <td>2.74</td>\n",
       "    </tr>\n",
       "    <tr>\n",
       "      <th>67</th>\n",
       "      <td>2</td>\n",
       "      <td>34.3</td>\n",
       "      <td>11.307692</td>\n",
       "      <td>0</td>\n",
       "      <td>3.64</td>\n",
       "    </tr>\n",
       "    <tr>\n",
       "      <th>61</th>\n",
       "      <td>2</td>\n",
       "      <td>54.1</td>\n",
       "      <td>11.116438</td>\n",
       "      <td>0</td>\n",
       "      <td>3.55</td>\n",
       "    </tr>\n",
       "    <tr>\n",
       "      <th>64</th>\n",
       "      <td>4</td>\n",
       "      <td>54.2</td>\n",
       "      <td>11.782609</td>\n",
       "      <td>0</td>\n",
       "      <td>3.59</td>\n",
       "    </tr>\n",
       "    <tr>\n",
       "      <th>53</th>\n",
       "      <td>3</td>\n",
       "      <td>51.1</td>\n",
       "      <td>11.230769</td>\n",
       "      <td>0</td>\n",
       "      <td>3.47</td>\n",
       "    </tr>\n",
       "    <tr>\n",
       "      <th>73</th>\n",
       "      <td>3</td>\n",
       "      <td>53.6</td>\n",
       "      <td>12.711462</td>\n",
       "      <td>0</td>\n",
       "      <td>3.75</td>\n",
       "    </tr>\n",
       "    <tr>\n",
       "      <th>62</th>\n",
       "      <td>0</td>\n",
       "      <td>48.8</td>\n",
       "      <td>11.665339</td>\n",
       "      <td>0</td>\n",
       "      <td>3.56</td>\n",
       "    </tr>\n",
       "    <tr>\n",
       "      <th>66</th>\n",
       "      <td>2</td>\n",
       "      <td>48.5</td>\n",
       "      <td>11.022727</td>\n",
       "      <td>1</td>\n",
       "      <td>3.64</td>\n",
       "    </tr>\n",
       "    <tr>\n",
       "      <th>33</th>\n",
       "      <td>1</td>\n",
       "      <td>112.4</td>\n",
       "      <td>12.284153</td>\n",
       "      <td>0</td>\n",
       "      <td>3.21</td>\n",
       "    </tr>\n",
       "    <tr>\n",
       "      <th>78</th>\n",
       "      <td>2</td>\n",
       "      <td>28.0</td>\n",
       "      <td>11.200000</td>\n",
       "      <td>0</td>\n",
       "      <td>3.89</td>\n",
       "    </tr>\n",
       "    <tr>\n",
       "      <th>54</th>\n",
       "      <td>4</td>\n",
       "      <td>70.7</td>\n",
       "      <td>11.783333</td>\n",
       "      <td>0</td>\n",
       "      <td>3.47</td>\n",
       "    </tr>\n",
       "    <tr>\n",
       "      <th>72</th>\n",
       "      <td>1</td>\n",
       "      <td>52.3</td>\n",
       "      <td>11.708955</td>\n",
       "      <td>0</td>\n",
       "      <td>3.69</td>\n",
       "    </tr>\n",
       "    <tr>\n",
       "      <th>11</th>\n",
       "      <td>1</td>\n",
       "      <td>65.7</td>\n",
       "      <td>13.362712</td>\n",
       "      <td>0</td>\n",
       "      <td>2.87</td>\n",
       "    </tr>\n",
       "    <tr>\n",
       "      <th>30</th>\n",
       "      <td>2</td>\n",
       "      <td>52.5</td>\n",
       "      <td>12.549801</td>\n",
       "      <td>1</td>\n",
       "      <td>3.19</td>\n",
       "    </tr>\n",
       "  </tbody>\n",
       "</table>\n",
       "</div>"
      ],
      "text/plain": [
       "    Category  km4week    sp4week  CrossTraining  MarathonTime\n",
       "75         2     23.9  12.050420              1          3.78\n",
       "0          2    132.8  14.434783              0          2.37\n",
       "70         0     87.0  11.472527              0          3.68\n",
       "22         4     59.4  12.638298              0          3.05\n",
       "12         0     53.5  14.078947              1          2.88\n",
       "56         2     56.2  12.086022              0          3.50\n",
       "10         2     93.5  13.200000              0          2.87\n",
       "18         2     84.5  12.549505              0          2.93\n",
       "4          2     84.6  13.945055              0          2.74\n",
       "67         2     34.3  11.307692              0          3.64\n",
       "61         2     54.1  11.116438              0          3.55\n",
       "64         4     54.2  11.782609              0          3.59\n",
       "53         3     51.1  11.230769              0          3.47\n",
       "73         3     53.6  12.711462              0          3.75\n",
       "62         0     48.8  11.665339              0          3.56\n",
       "66         2     48.5  11.022727              1          3.64\n",
       "33         1    112.4  12.284153              0          3.21\n",
       "78         2     28.0  11.200000              0          3.89\n",
       "54         4     70.7  11.783333              0          3.47\n",
       "72         1     52.3  11.708955              0          3.69\n",
       "11         1     65.7  13.362712              0          2.87\n",
       "30         2     52.5  12.549801              1          3.19"
      ]
     },
     "execution_count": 64,
     "metadata": {},
     "output_type": "execute_result"
    }
   ],
   "source": [
    "X_test"
   ]
  },
  {
   "cell_type": "markdown",
   "metadata": {
    "scrolled": true
   },
   "source": [
    "# Model fitting"
   ]
  },
  {
   "cell_type": "code",
   "execution_count": 65,
   "metadata": {},
   "outputs": [
    {
     "name": "stderr",
     "output_type": "stream",
     "text": [
      "/Users/carloscliment/opt/anaconda3/lib/python3.7/site-packages/sklearn/model_selection/_split.py:1978: FutureWarning: The default value of cv will change from 3 to 5 in version 0.22. Specify it explicitly to silence this warning.\n",
      "  warnings.warn(CV_WARNING, FutureWarning)\n",
      "/Users/carloscliment/opt/anaconda3/lib/python3.7/site-packages/sklearn/model_selection/_search.py:814: DeprecationWarning: The default of the `iid` parameter will change from True to False in version 0.22 and will be removed in 0.24. This will change numeric results when test-set sizes are unequal.\n",
      "  DeprecationWarning)\n"
     ]
    },
    {
     "data": {
      "text/plain": [
       "GridSearchCV(cv='warn', error_score='raise-deprecating',\n",
       "             estimator=RandomForestRegressor(bootstrap=True, criterion='mse',\n",
       "                                             max_depth=None,\n",
       "                                             max_features='auto',\n",
       "                                             max_leaf_nodes=None,\n",
       "                                             min_impurity_decrease=0.0,\n",
       "                                             min_impurity_split=None,\n",
       "                                             min_samples_leaf=1,\n",
       "                                             min_samples_split=2,\n",
       "                                             min_weight_fraction_leaf=0.0,\n",
       "                                             n_estimators='warn', n_jobs=None,\n",
       "                                             oob_score=False, random_state=0,\n",
       "                                             verbose=0, warm_start=False),\n",
       "             iid='warn', n_jobs=None,\n",
       "             param_grid={'max_depth': [1, 2, 3, 4],\n",
       "                         'n_estimators': [100, 150, 200, 250, 300]},\n",
       "             pre_dispatch='2*n_jobs', refit=True, return_train_score=False,\n",
       "             scoring=None, verbose=0)"
      ]
     },
     "execution_count": 65,
     "metadata": {},
     "output_type": "execute_result"
    }
   ],
   "source": [
    "parameters = {\n",
    "    'n_estimators': [100, 150, 200, 250, 300],\n",
    "    'max_depth': [1,2,3,4],\n",
    "}\n",
    "regr = RandomForestRegressor(random_state=0)\n",
    "\n",
    "clf = GridSearchCV(regr, parameters)\n",
    "X_train.drop('MarathonTime', axis=1, inplace=True)\n",
    "X_test.drop('MarathonTime', axis=1, inplace=True)\n",
    "clf.fit(X_train, y_train)"
   ]
  },
  {
   "cell_type": "code",
   "execution_count": 66,
   "metadata": {},
   "outputs": [
    {
     "data": {
      "text/plain": [
       "0.014455584447041477"
      ]
     },
     "execution_count": 66,
     "metadata": {},
     "output_type": "execute_result"
    }
   ],
   "source": [
    "y_pred_train = clf.predict(X_train)\n",
    "mean_squared_error(y_train, y_pred_train)"
   ]
  },
  {
   "cell_type": "code",
   "execution_count": 67,
   "metadata": {},
   "outputs": [
    {
     "name": "stdout",
     "output_type": "stream",
     "text": [
      "MSE:  0.05059024581519797\n",
      "RMSE:  0.22492275521875943\n"
     ]
    }
   ],
   "source": [
    "y_pred = clf.predict(X_test)\n",
    "print(\"MSE: \", mean_squared_error(y_test, y_pred))\n",
    "print(\"RMSE: \", sqrt(mean_squared_error(y_test, y_pred)))"
   ]
  },
  {
   "cell_type": "markdown",
   "metadata": {},
   "source": [
    "Basically, the error we have on average per prediction is 0.25 hours, which is less than 15 minutes."
   ]
  },
  {
   "cell_type": "code",
   "execution_count": 68,
   "metadata": {},
   "outputs": [
    {
     "data": {
      "text/html": [
       "<div>\n",
       "<style scoped>\n",
       "    .dataframe tbody tr th:only-of-type {\n",
       "        vertical-align: middle;\n",
       "    }\n",
       "\n",
       "    .dataframe tbody tr th {\n",
       "        vertical-align: top;\n",
       "    }\n",
       "\n",
       "    .dataframe thead th {\n",
       "        text-align: right;\n",
       "    }\n",
       "</style>\n",
       "<table border=\"1\" class=\"dataframe\">\n",
       "  <thead>\n",
       "    <tr style=\"text-align: right;\">\n",
       "      <th></th>\n",
       "      <th>y_test</th>\n",
       "      <th>y_pred</th>\n",
       "      <th>error</th>\n",
       "    </tr>\n",
       "  </thead>\n",
       "  <tbody>\n",
       "    <tr>\n",
       "      <th>0</th>\n",
       "      <td>3.78</td>\n",
       "      <td>3.438525</td>\n",
       "      <td>0.341475</td>\n",
       "    </tr>\n",
       "    <tr>\n",
       "      <th>1</th>\n",
       "      <td>2.37</td>\n",
       "      <td>2.841564</td>\n",
       "      <td>-0.471564</td>\n",
       "    </tr>\n",
       "    <tr>\n",
       "      <th>2</th>\n",
       "      <td>3.68</td>\n",
       "      <td>3.258048</td>\n",
       "      <td>0.421952</td>\n",
       "    </tr>\n",
       "    <tr>\n",
       "      <th>3</th>\n",
       "      <td>3.05</td>\n",
       "      <td>3.261417</td>\n",
       "      <td>-0.211417</td>\n",
       "    </tr>\n",
       "    <tr>\n",
       "      <th>4</th>\n",
       "      <td>2.88</td>\n",
       "      <td>2.977545</td>\n",
       "      <td>-0.097545</td>\n",
       "    </tr>\n",
       "    <tr>\n",
       "      <th>5</th>\n",
       "      <td>3.50</td>\n",
       "      <td>3.313278</td>\n",
       "      <td>0.186722</td>\n",
       "    </tr>\n",
       "    <tr>\n",
       "      <th>6</th>\n",
       "      <td>2.87</td>\n",
       "      <td>2.931006</td>\n",
       "      <td>-0.061006</td>\n",
       "    </tr>\n",
       "    <tr>\n",
       "      <th>7</th>\n",
       "      <td>2.93</td>\n",
       "      <td>2.985578</td>\n",
       "      <td>-0.055578</td>\n",
       "    </tr>\n",
       "    <tr>\n",
       "      <th>8</th>\n",
       "      <td>2.74</td>\n",
       "      <td>2.839478</td>\n",
       "      <td>-0.099478</td>\n",
       "    </tr>\n",
       "    <tr>\n",
       "      <th>9</th>\n",
       "      <td>3.64</td>\n",
       "      <td>3.770906</td>\n",
       "      <td>-0.130906</td>\n",
       "    </tr>\n",
       "  </tbody>\n",
       "</table>\n",
       "</div>"
      ],
      "text/plain": [
       "   y_test    y_pred     error\n",
       "0    3.78  3.438525  0.341475\n",
       "1    2.37  2.841564 -0.471564\n",
       "2    3.68  3.258048  0.421952\n",
       "3    3.05  3.261417 -0.211417\n",
       "4    2.88  2.977545 -0.097545\n",
       "5    3.50  3.313278  0.186722\n",
       "6    2.87  2.931006 -0.061006\n",
       "7    2.93  2.985578 -0.055578\n",
       "8    2.74  2.839478 -0.099478\n",
       "9    3.64  3.770906 -0.130906"
      ]
     },
     "execution_count": 68,
     "metadata": {},
     "output_type": "execute_result"
    }
   ],
   "source": [
    "results = pd.DataFrame(zip(y_test, y_pred, y_test - y_pred), columns = ['y_test', 'y_pred', 'error'])\n",
    "results.head(10)"
   ]
  },
  {
   "cell_type": "code",
   "execution_count": 69,
   "metadata": {},
   "outputs": [
    {
     "data": {
      "text/plain": [
       "<matplotlib.axes._subplots.AxesSubplot at 0x7ffd29e53390>"
      ]
     },
     "execution_count": 69,
     "metadata": {},
     "output_type": "execute_result"
    },
    {
     "data": {
      "image/png": "[encoded data removed]",
      "text/plain": [
       "<Figure size 432x288 with 1 Axes>"
      ]
     },
     "metadata": {
      "needs_background": "light"
     },
     "output_type": "display_data"
    }
   ],
   "source": [
    "results['error'].hist()"
   ]
  },
  {
   "cell_type": "code",
   "execution_count": 70,
   "metadata": {},
   "outputs": [
    {
     "data": {
      "image/png": "[encoded data removed]",
      "text/plain": [
       "<Figure size 720x720 with 1 Axes>"
      ]
     },
     "metadata": {
      "needs_background": "light"
     },
     "output_type": "display_data"
    }
   ],
   "source": [
    "plt.figure(figsize=(10,10))\n",
    "x=np.linspace(0,5,5)\n",
    "plt.plot(results['y_test'], results['y_pred'], 'b.')\n",
    "plt.plot(x, x, 'r-')\n",
    "plt.xlim(2.25,4)\n",
    "plt.ylim(2.25,4)\n",
    "plt.title(\"Results\", fontsize=16)\n",
    "plt.xlabel(\"Real\", fontsize=14)\n",
    "plt.ylabel(\"Predicted\", fontsize=14)\n",
    "plt.savefig(\"Results.png\")\n",
    "plt.show()"
   ]
  },
  {
   "cell_type": "code",
   "execution_count": null,
   "metadata": {},
   "outputs": [],
   "source": []
  }
 ],
 "metadata": {
  "kernelspec": {
   "display_name": "Python 3",
   "language": "python",
   "name": "python3"
  },
  "language_info": {
   "codemirror_mode": {
    "name": "ipython",
    "version": 3
   },
   "file_extension": ".py",
   "mimetype": "text/x-python",
   "name": "python",
   "nbconvert_exporter": "python",
   "pygments_lexer": "ipython3",
   "version": "3.7.4"
  },
  "varInspector": {
   "cols": {
    "lenName": 16,
    "lenType": 16,
    "lenVar": 40
   },
   "kernels_config": {
    "python": {
     "delete_cmd_postfix": "",
     "delete_cmd_prefix": "del ",
     "library": "var_list.py",
     "varRefreshCmd": "print(var_dic_list())"
    },
    "r": {
     "delete_cmd_postfix": ") ",
     "delete_cmd_prefix": "rm(",
     "library": "var_list.r",
     "varRefreshCmd": "cat(var_dic_list()) "
    }
   },
   "types_to_exclude": [
    "module",
    "function",
    "builtin_function_or_method",
    "instance",
    "_Feature"
   ],
   "window_display": false
  }
 },
 "nbformat": 4,
 "nbformat_minor": 2
}
